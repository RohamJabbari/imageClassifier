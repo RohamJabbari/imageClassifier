{
 "cells": [
  {
   "cell_type": "markdown",
   "id": "092qSERaY8Hk",
   "metadata": {
    "id": "092qSERaY8Hk"
   },
   "source": [
    "## Libraries:"
   ]
  },
  {
   "cell_type": "code",
   "execution_count": 1,
   "id": "983ad224",
   "metadata": {},
   "outputs": [
    {
     "name": "stderr",
     "output_type": "stream",
     "text": [
      "2023-02-25 18:11:16.580769: I tensorflow/core/platform/cpu_feature_guard.cc:193] This TensorFlow binary is optimized with oneAPI Deep Neural Network Library (oneDNN) to use the following CPU instructions in performance-critical operations:  SSE4.1 SSE4.2\n",
      "To enable them in other operations, rebuild TensorFlow with the appropriate compiler flags.\n"
     ]
    }
   ],
   "source": [
    "import pandas as pd\n",
    "import numpy as np\n",
    "from keras.models import Sequential\n",
    "from keras.layers import Dense, Input\n",
    "from keras.utils import np_utils\n",
    "from keras.layers import Dropout\n",
    "from keras.layers import Flatten\n",
    "from keras.layers.convolutional import Conv2D\n",
    "from keras.layers.convolutional import MaxPooling2D"
   ]
  },
  {
   "cell_type": "code",
   "execution_count": 2,
   "id": "imYAk7VdvJi6",
   "metadata": {
    "executionInfo": {
     "elapsed": 5,
     "status": "ok",
     "timestamp": 1669746444045,
     "user": {
      "displayName": "Roham J",
      "userId": "05484521296017075099"
     },
     "user_tz": -60
    },
    "id": "imYAk7VdvJi6",
    "scrolled": false
   },
   "outputs": [],
   "source": [
    "from sklearn.preprocessing import MultiLabelBinarizer\n",
    "from sklearn.model_selection import train_test_split"
   ]
  },
  {
   "cell_type": "code",
   "execution_count": 3,
   "id": "WGW1WXpgcZ2-",
   "metadata": {
    "executionInfo": {
     "elapsed": 5434,
     "status": "ok",
     "timestamp": 1669746461254,
     "user": {
      "displayName": "Roham J",
      "userId": "05484521296017075099"
     },
     "user_tz": -60
    },
    "id": "WGW1WXpgcZ2-"
   },
   "outputs": [],
   "source": [
    "X = pd.read_csv('X_train.csv')\n",
    "y = pd.read_csv('y_train.csv')"
   ]
  },
  {
   "cell_type": "markdown",
   "id": "-t6VHbImZNrp",
   "metadata": {
    "id": "-t6VHbImZNrp"
   },
   "source": [
    "### CNN model, convolutional neural network implementation:"
   ]
  },
  {
   "cell_type": "code",
   "execution_count": 4,
   "id": "xsSFEtmYfCke",
   "metadata": {
    "executionInfo": {
     "elapsed": 312,
     "status": "ok",
     "timestamp": 1669748579060,
     "user": {
      "displayName": "Roham J",
      "userId": "05484521296017075099"
     },
     "user_tz": -60
    },
    "id": "xsSFEtmYfCke"
   },
   "outputs": [],
   "source": [
    "# \n",
    "# \n",
    "def cnn_model(num_classes):\n",
    "\n",
    "    model=Sequential()\n",
    "    model.add(Conv2D(32, kernel_size = (3,3), input_shape = (28, 28, 1), padding='same', activation='relu'))\n",
    "    model.add(MaxPooling2D(pool_size=(2,2), padding='same'))\n",
    "    model.add(Conv2D(64, kernel_size = (3,3), padding='same', activation='relu'))\n",
    "    model.add(MaxPooling2D(pool_size=(2,2), padding='same'))\n",
    "\n",
    "    model.add(Dropout(0.2))\n",
    "    model.add(Flatten())    \n",
    "    model.add(Dense(128, activation='relu'))\n",
    "    model.add(Dense(num_classes, activation='softmax'))\n",
    "    model.compile(loss='categorical_crossentropy', optimizer='adam', metrics=['accuracy'])\n",
    "    \n",
    "    return model"
   ]
  },
  {
   "cell_type": "markdown",
   "id": "w5AcHsIMZbIh",
   "metadata": {
    "id": "w5AcHsIMZbIh"
   },
   "source": [
    "## Prediction function:"
   ]
  },
  {
   "cell_type": "code",
   "execution_count": 5,
   "id": "zzVvf_D_vJcD",
   "metadata": {
    "executionInfo": {
     "elapsed": 3,
     "status": "ok",
     "timestamp": 1669748579421,
     "user": {
      "displayName": "Roham J",
      "userId": "05484521296017075099"
     },
     "user_tz": -60
    },
    "id": "zzVvf_D_vJcD"
   },
   "outputs": [],
   "source": [
    "def train_predict(X, y):\n",
    "\n",
    "    X_train, X_test, y_train, y_test = train_test_split(X, y, test_size=0.2, random_state=0)\n",
    "    \n",
    "    classes = pd.unique(y_train[['labels']].values.ravel())\n",
    "    num_classes = len(classes)\n",
    "    mlb = MultiLabelBinarizer()\n",
    "    classes_onehot = mlb.fit_transform(classes)\n",
    "\n",
    "    X_train_img = X_train.values.reshape(X_train.shape[0], 28, 28, 1).astype('float32')\n",
    "    X_test_img = X_test.values.reshape(X_test.shape[0], 28, 28, 1).astype('float32')\n",
    "\n",
    "    y_train_onehot = np.array([classes_onehot[np.where(mlb.classes_ == c[0])][0] for c in y_train['labels'].to_list()])\n",
    "    y_test_onehot = np.array([classes_onehot[np.where(mlb.classes_ == c[0])][0] for c in y_test['labels'].to_list()])\n",
    "\n",
    "\n",
    "    \n",
    "    model = cnn_model(num_classes)\n",
    "    model.fit(X_train_img, y_train_onehot, epochs=10, batch_size=200, verbose=2)\n",
    "    score= model.evaluate(X_test_img, y_test_onehot, verbose=1)\n",
    "    # print(score[1])\n",
    "    \n",
    "    y_pred = model.predict(X_test_img) \n",
    "\n",
    "     \n",
    "\n",
    "    return y_pred\n"
   ]
  },
  {
   "cell_type": "code",
   "execution_count": 6,
   "id": "PVb8qEPZsdk8",
   "metadata": {
    "colab": {
     "base_uri": "https://localhost:8080/"
    },
    "executionInfo": {
     "elapsed": 169084,
     "status": "ok",
     "timestamp": 1669748748941,
     "user": {
      "displayName": "Roham J",
      "userId": "05484521296017075099"
     },
     "user_tz": -60
    },
    "id": "PVb8qEPZsdk8",
    "outputId": "8fb69173-a33e-4ee8-c13a-4476bf47261e"
   },
   "outputs": [
    {
     "name": "stdout",
     "output_type": "stream",
     "text": [
      "Epoch 1/10\n"
     ]
    },
    {
     "name": "stderr",
     "output_type": "stream",
     "text": [
      "2023-02-25 18:11:19.721888: I tensorflow/core/platform/cpu_feature_guard.cc:193] This TensorFlow binary is optimized with oneAPI Deep Neural Network Library (oneDNN) to use the following CPU instructions in performance-critical operations:  SSE4.1 SSE4.2\n",
      "To enable them in other operations, rebuild TensorFlow with the appropriate compiler flags.\n"
     ]
    },
    {
     "name": "stdout",
     "output_type": "stream",
     "text": [
      "80/80 - 5s - loss: 5.5680 - accuracy: 0.1279 - 5s/epoch - 68ms/step\n",
      "Epoch 2/10\n",
      "80/80 - 5s - loss: 1.3393 - accuracy: 0.6603 - 5s/epoch - 65ms/step\n",
      "Epoch 3/10\n",
      "80/80 - 5s - loss: 0.7224 - accuracy: 0.8084 - 5s/epoch - 65ms/step\n",
      "Epoch 4/10\n",
      "80/80 - 5s - loss: 0.5391 - accuracy: 0.8494 - 5s/epoch - 64ms/step\n",
      "Epoch 5/10\n",
      "80/80 - 5s - loss: 0.4456 - accuracy: 0.8711 - 5s/epoch - 64ms/step\n",
      "Epoch 6/10\n",
      "80/80 - 5s - loss: 0.3824 - accuracy: 0.8881 - 5s/epoch - 64ms/step\n",
      "Epoch 7/10\n",
      "80/80 - 5s - loss: 0.3310 - accuracy: 0.8984 - 5s/epoch - 64ms/step\n",
      "Epoch 8/10\n",
      "80/80 - 5s - loss: 0.2797 - accuracy: 0.9110 - 5s/epoch - 65ms/step\n",
      "Epoch 9/10\n",
      "80/80 - 5s - loss: 0.2544 - accuracy: 0.9172 - 5s/epoch - 65ms/step\n",
      "Epoch 10/10\n",
      "80/80 - 5s - loss: 0.2246 - accuracy: 0.9247 - 5s/epoch - 65ms/step\n",
      "125/125 [==============================] - 0s 3ms/step - loss: 0.4712 - accuracy: 0.8810\n",
      "125/125 [==============================] - 0s 3ms/step\n"
     ]
    }
   ],
   "source": [
    "if __name__ == \"__main__\":\n",
    "\n",
    "    y_pred = train_predict(X, y)"
   ]
  }
 ],
 "metadata": {
  "colab": {
   "provenance": []
  },
  "kernelspec": {
   "display_name": "Python 3 (ipykernel)",
   "language": "python",
   "name": "python3"
  },
  "language_info": {
   "codemirror_mode": {
    "name": "ipython",
    "version": 3
   },
   "file_extension": ".py",
   "mimetype": "text/x-python",
   "name": "python",
   "nbconvert_exporter": "python",
   "pygments_lexer": "ipython3",
   "version": "3.9.13"
  }
 },
 "nbformat": 4,
 "nbformat_minor": 5
}
